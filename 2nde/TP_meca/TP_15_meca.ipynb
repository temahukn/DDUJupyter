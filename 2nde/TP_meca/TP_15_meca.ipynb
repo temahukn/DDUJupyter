{
 "cells": [
  {
   "cell_type": "code",
   "execution_count": 1,
   "metadata": {},
   "outputs": [
    {
     "name": "stdout",
     "output_type": "stream",
     "text": [
      "v1 = 5.36 m/s\n",
      "v2 = 5.68 m/s\n",
      "v3 = 6.27 m/s\n",
      "v4 = 7.07 m/s\n",
      "v5 = 8.01 m/s\n",
      "v6 = 9.04 m/s\n",
      "v7 = 10.15 m/s\n",
      "v8 = 11.30 m/s\n"
     ]
    }
   ],
   "source": [
    "import math as math\n",
    "#Définition de la liste de points M1, M2, M3, etc.\n",
    "pts = [[0,0],[1,0.125],[2,0.5],[3,1.125],[4,2],[5,3.125],[6,4.5],[7,6.125],[8,8]]\n",
    "dt = 0.188\n",
    "for i in range(len(pts)-1):\n",
    "    #Définition des points Mi et Mi+1 et de leurs coordonnées\n",
    "    M1 = pts[i]\n",
    "    x1 = M1[0]\n",
    "    y1 = M1[1]\n",
    "    M2 = pts[i+1]\n",
    "    x2 = M2[0]\n",
    "    y2 = M2[1]\n",
    "    #Calcul du vecteur vitesse\n",
    "    v = [(x2-x1)/dt,(y2-y1)/dt]\n",
    "    norme_v = math.sqrt(v[0]**2+v[1]**2)\n",
    "    print('v'+str(i+1)+ ' = '+ \"%.2f\" % norme_v+' m/s')"
   ]
  },
  {
   "cell_type": "code",
   "execution_count": null,
   "metadata": {},
   "outputs": [],
   "source": []
  }
 ],
 "metadata": {
  "kernelspec": {
   "display_name": "Python 3",
   "language": "python",
   "name": "python3"
  },
  "language_info": {
   "codemirror_mode": {
    "name": "ipython",
    "version": 3
   },
   "file_extension": ".py",
   "mimetype": "text/x-python",
   "name": "python",
   "nbconvert_exporter": "python",
   "pygments_lexer": "ipython3",
   "version": "3.6.9"
  }
 },
 "nbformat": 4,
 "nbformat_minor": 5
}
