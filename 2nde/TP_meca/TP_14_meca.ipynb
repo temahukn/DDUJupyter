{
 "cells": [
  {
   "cell_type": "markdown",
   "metadata": {},
   "source": [
    "# TP mécanique\n",
    "\n",
    "Objectifs du TP :\n",
    "* Faire une chronophotographie\n",
    "* Exploiter l'image et en extraire une trajectoire ainsi que les vecteurs vitesse\n",
    "\n",
    "## I. Chronophotographie\n",
    "\n",
    "### 1. Télécharger et installer l'application MotionShot sur son téléphone\n",
    "\n",
    "### 2. Avec une balle, enregistrer les quatre types de mouvement que sont :\n",
    "    * Photo 1 : Un mouvement parabolique\n",
    "    * Photo 2 : Un mouvement rectiligne uniforme\n",
    "    * Photo 3 : Un mouvement rectiligne accéléré\n",
    "    * Photo 4 : Un mouvement rectiligne décéléré\n",
    "### 3. Transférer les 4 photos dans un dossier nommé \"TP9_meca\" sur le bureau de votre ordinateur\n",
    "Vous pouvez utiliser votre mail pour récupérer les photos depuis votre téléphone.\n",
    "### 4. Déposer les quatre photos ici en cliquant sur le bouton Upload :"
   ]
  },
  {
   "cell_type": "code",
   "execution_count": null,
   "metadata": {},
   "outputs": [],
   "source": [
    "import ipywidgets as widgets\n",
    "uploader = widgets.FileUpload(\n",
    "    accept='.jpg',  #Accepte uniquement certaines extensions ex: '.txt', '.pdf', 'image/*', 'image/*,.pdf'\n",
    "    multiple=True #Accepte plusieurs images\n",
    ")\n",
    "display(uploader) #Montre le bouton upload"
   ]
  },
  {
   "cell_type": "markdown",
   "metadata": {},
   "source": [
    "### 5. Afficher les images"
   ]
  },
  {
   "cell_type": "code",
   "execution_count": null,
   "metadata": {
    "scrolled": false
   },
   "outputs": [],
   "source": [
    "size = len(uploader.data)\n",
    "image_list = []\n",
    "names = list(uploader.value.keys())\n",
    "for i in range(size) :\n",
    "    image_list.append(widgets.Image(value=uploader.data[i]))\n",
    "widgets.GridBox(image_list, layout=widgets.Layout(grid_template_columns=\"repeat(2, 200px)\"))"
   ]
  },
  {
   "cell_type": "markdown",
   "metadata": {},
   "source": [
    "### 6. Analyser les images\n",
    "\n",
    "La procédure d'analyse d'une image est comme suit :\n",
    "\n",
    "0. Exécuter le code de la cellule suivante\n",
    "1. Entrer le numéro de l'image à analyser\n",
    "2. Entrer l'intervalle de 180 ms correspondant à MotionShot\n",
    "3. Entrer la taille de votre objet-échelle\n",
    "4. Cliquer les deux extrémités de l'objet-échelle\n",
    "5. Afficher l'échelle grâce au bouton 1\n",
    "6. Cliquer sur chaque point de la trajectoire\n",
    "7. Afficher les vecteurs grâce au bouton 2\n",
    "8. Enregistrer l'image avec les vecteurs\n",
    "9. Enregistrer les valeurs des vecteurs-vitesse\n",
    "\n",
    "Si vous ratez votre analyse, il peut être nécessaire de recharger la page et de recommencer."
   ]
  },
  {
   "cell_type": "code",
   "execution_count": null,
   "metadata": {
    "scrolled": true
   },
   "outputs": [],
   "source": [
    "#Demander les paramètres de l'expérience\n",
    "n = int(input(\"Analyser l'image : \"))-1\n",
    "dt = float(input(\"intervalle (ms) : \"))*0.001\n",
    "d = float(input(\"taille de l'objet-échelle (cm) : \"))*0.01\n",
    "\n",
    "#Chargement de l'image à analyser\n",
    "image = image_list[n].value\n",
    "from PIL import Image\n",
    "import io\n",
    "import math\n",
    "image_data = image\n",
    "image = Image.open(io.BytesIO(image_data))\n",
    "from IPython.display import display\n",
    "\n",
    "#Affichage de l'image à analyser dans une figure matplotlib en mode magic notebook\n",
    "%matplotlib notebook\n",
    "import matplotlib.pyplot as plt\n",
    "import matplotlib.image as mpimg\n",
    "import numpy as np\n",
    "pts = []\n",
    "fig = plt.figure(figsize=(10,8))\n",
    "plt.imshow(image)\n",
    "plt.show()\n",
    "\n",
    "#récupération des points sur l'image et tracé de l'échelle\n",
    "def onclick(event):\n",
    "    tx = 'button=%d, x=%d, y=%d, xdata=%f, ydata=%f' % (event.button, event.x, event.y, event.xdata, event.ydata)\n",
    "    #text.set_text(tx)\n",
    "    plt.plot(event.xdata, event.ydata, \"or\", markersize=5)  # or: point rouge\n",
    "    pts.append([event.xdata,event.ydata])\n",
    "\n",
    "cid = fig.canvas.mpl_connect('button_press_event', onclick)\n",
    "\n",
    "scale = 1\n",
    "pix = []\n",
    "#Tracé des vecteurs vitesse sur l'image\n",
    "def clk_btn1(b):\n",
    "    with out1:\n",
    "        if(len(pts)==2):\n",
    "            p1 = pts[0]\n",
    "            p2 = pts[1]\n",
    "            scale = math.sqrt((p2[0]-p1[0])**2 + (p2[1]-p1[1])**2)\n",
    "            pix.append(scale/d)\n",
    "            pts.clear()\n",
    "            #tracé de l'échelle des vitesses\n",
    "            plt.plot([20, pix[0]+20], [55,55], color='r')\n",
    "            scaletxt = '1 m <-> '+\"%.2f\" % pix[0]+ ' px'\n",
    "            plt.text(20, 40, scaletxt, fontsize=15, color='r', ha='left', va='center')\n",
    "            print(\"Tracé de l'échelle réussi : \", scaletxt)\n",
    "            \n",
    "btn1 = widgets.Button(description=\"1. Traçage échelle\")\n",
    "btn1.on_click(clk_btn1)\n",
    "out1 = widgets.Output()\n",
    "display(btn1, out1)\n",
    "v=[]\n",
    "def clk_btn2(b):\n",
    "    with out2:\n",
    "        #tracé de l'échelle des vitesses\n",
    "        s = pix[0]*dt*.9\n",
    "        plt.plot([20, s+20], [90,90], color='b')\n",
    "        scaletxt = '1 m/s <-> '+\"%.2f\" % s + ' px'\n",
    "        plt.text(20, 75, scaletxt, fontsize=15, color='b', ha='left', va='center')\n",
    "        print(\"Tracé de l'échelle des vecteurs réussi : \", scaletxt)\n",
    "        #Calcul et affichage de chaque vecteur vitesse\n",
    "        for i in range(len(pts)-1):\n",
    "            #Définition des points Mi et Mi+1 et de leurs coordonnées\n",
    "            M1 = pts[i]\n",
    "            x1 = M1[0]\n",
    "            y1 = M1[1]\n",
    "            M2 = pts[i+1]\n",
    "            x2 = M2[0]\n",
    "            y2 = M2[1]\n",
    "            #Calcul du vecteur vitesse\n",
    "            v = [(x2-x1)/pix[0]/dt,(y2-y1)/pix[0]/dt]\n",
    "            norme_v = math.sqrt(v[0]**2+v[1]**2)\n",
    "            #affichage de la norme du vecteur vitesse\n",
    "            atext = 'v'+str(i)\n",
    "            vtext = \"%.1f\" % norme_v+' m/s'\n",
    "            print(atext, ' ', vtext)\n",
    "            #affichage du vecteur vitesse\n",
    "            plt.text((M1[0]+M2[0])/2, (M1[1]+M2[1])/2, atext, fontsize=10, color='c', ha='left', va='center')\n",
    "            plt.quiver([x1, 0, 0], [y1, 0, 0], [v[0], 0, 0], [v[1], 0, 0], color='b', angles='xy', scale_units='xy', scale=1/pix[0]/dt/.9, width=.003)\n",
    "        pix.clear()\n",
    "                \n",
    "btn2 = widgets.Button(description=\"2. Traçage vecteurs\")\n",
    "btn2.on_click(clk_btn2)\n",
    "out2 = widgets.Output()\n",
    "display(btn2, out2)"
   ]
  }
 ],
 "metadata": {
  "kernelspec": {
   "display_name": "Python 3",
   "language": "python",
   "name": "python3"
  },
  "language_info": {
   "codemirror_mode": {
    "name": "ipython",
    "version": 3
   },
   "file_extension": ".py",
   "mimetype": "text/x-python",
   "name": "python",
   "nbconvert_exporter": "python",
   "pygments_lexer": "ipython3",
   "version": "3.7.10"
  }
 },
 "nbformat": 4,
 "nbformat_minor": 2
}
