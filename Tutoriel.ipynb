{
 "cells": [
  {
   "cell_type": "markdown",
   "metadata": {},
   "source": [
    "# Bienvenue dans l'environnement DDUJupyter\n",
    "Cet environnement permet de programmer en Python directement à partir de votre navigateur, pour les personnes ne disposant pas des droits administrateur sur leur machine."
   ]
  },
  {
   "cell_type": "markdown",
   "metadata": {},
   "source": [
    "# Blocs\n",
    "Un bloc est un texte réparti sur plusieurs lignes.  \n",
    "\n",
    "Il y a deux types de blocs :  \n",
    "* Bloc Code (Code) : la ligne de code exécutable directement dans la console du terminal Python\n",
    "* Bloc Texte (Markdown, Texte Brut et Titre) : description du code, non exécuté dans la console Python\n",
    "\n",
    "Le menu défilant permet de sélectionner l'une des quatre possibilités d'édition"
   ]
  },
  {
   "cell_type": "markdown",
   "metadata": {},
   "source": [
    "# Repérage des blocs  \n",
    "Les blocs sont repérés par la barre à gauche  \n",
    "* Bloc actif : barre bleue  \n",
    "* Bloc en cours d'édition : barre verte "
   ]
  },
  {
   "cell_type": "markdown",
   "metadata": {},
   "source": [
    "# Commandes\n",
    "Un tutoriel rapide pour les enseignants pour commencer à utiliser le notebook :  \n",
    "\n",
    "* Entrée : on saute une ligne à l'intérieur du bloc\n",
    "* maj + entrée : on exécute l'ensemble du bloc\n",
    "\n",
    "* double click à la fin du notebook : on ajoute un bloc\n",
    "* touche x lorsqu'un bloc est actif : on supprime le bloc actif\n",
    "* touche a lorsqu'un bloc est actif : on insère un bloc au dessus du bloc actif\n",
    "* touche b lorsqu'un bloc est actif : on insère un bloc juste au dessous du bloc actif  \n",
    "\n",
    "Le reste des commandes est disponible en cliquant sur le bouton avec une image de clavier, juste à côté du menu défilant."
   ]
  },
  {
   "cell_type": "markdown",
   "metadata": {},
   "source": [
    "# Exemples simples de code :"
   ]
  },
  {
   "cell_type": "markdown",
   "metadata": {},
   "source": [
    "On peut taper une seule ligne de code dans le bloc puis l'exécuter avec maj + entrée :"
   ]
  },
  {
   "cell_type": "code",
   "execution_count": 1,
   "metadata": {},
   "outputs": [],
   "source": [
    "a = 5"
   ]
  },
  {
   "cell_type": "markdown",
   "metadata": {},
   "source": [
    "On peut aussi taper plusieurs lignes de code dans un bloc, puis exécuter l'ensemble du bloc avec maj + entrée :"
   ]
  },
  {
   "cell_type": "code",
   "execution_count": 2,
   "metadata": {},
   "outputs": [],
   "source": [
    "a = 5\n",
    "b = 23\n",
    "c = 50"
   ]
  },
  {
   "cell_type": "markdown",
   "metadata": {},
   "source": [
    "Lors de l'exécution d'un bloc Code, un bloc de réponse du terminal peut apparaître (noté $Out[*]$) si un calcul est demandé : "
   ]
  },
  {
   "cell_type": "code",
   "execution_count": 3,
   "metadata": {},
   "outputs": [
    {
     "data": {
      "text/plain": [
       "28"
      ]
     },
     "execution_count": 3,
     "metadata": {},
     "output_type": "execute_result"
    }
   ],
   "source": [
    "a + b"
   ]
  },
  {
   "cell_type": "code",
   "execution_count": 4,
   "metadata": {},
   "outputs": [
    {
     "data": {
      "text/plain": [
       "55"
      ]
     },
     "execution_count": 4,
     "metadata": {},
     "output_type": "execute_result"
    }
   ],
   "source": [
    "a + c"
   ]
  },
  {
   "cell_type": "code",
   "execution_count": 5,
   "metadata": {},
   "outputs": [
    {
     "data": {
      "text/plain": [
       "0.46"
      ]
     },
     "execution_count": 5,
     "metadata": {},
     "output_type": "execute_result"
    }
   ],
   "source": [
    "b / c"
   ]
  },
  {
   "cell_type": "markdown",
   "metadata": {},
   "source": [
    "Il est possible de lancer un programme entier dans un bloc Code, par exemple :"
   ]
  },
  {
   "cell_type": "code",
   "execution_count": 6,
   "metadata": {},
   "outputs": [
    {
     "name": "stdout",
     "output_type": "stream",
     "text": [
      "Donner la longueur du premier côté : 5\n",
      "Donner la longueur du deuxième côté : 4\n",
      "Donner la longueur du troisième côté : 3\n",
      "Aire du triange : 6.00\n"
     ]
    }
   ],
   "source": [
    "# Ce programme calcule l'aire d'un triangle\n",
    "\n",
    "a = float(input('Donner la longueur du premier côté : '))\n",
    "b = float(input('Donner la longueur du deuxième côté : '))\n",
    "c = float(input('Donner la longueur du troisième côté : '))\n",
    "\n",
    "# calcul du semi-perimetre\n",
    "s = (a + b + c) / 2\n",
    "\n",
    "# calcul de l'aire\n",
    "area = (s*(s-a)*(s-b)*(s-c)) ** 0.5\n",
    "print('Aire du triange : %0.2f' %area)"
   ]
  },
  {
   "cell_type": "code",
   "execution_count": null,
   "metadata": {},
   "outputs": [],
   "source": []
  }
 ],
 "metadata": {
  "kernelspec": {
   "display_name": "Python 3",
   "language": "python",
   "name": "python3"
  },
  "language_info": {
   "codemirror_mode": {
    "name": "ipython",
    "version": 3
   },
   "file_extension": ".py",
   "mimetype": "text/x-python",
   "name": "python",
   "nbconvert_exporter": "python",
   "pygments_lexer": "ipython3",
   "version": "3.7.3"
  }
 },
 "nbformat": 4,
 "nbformat_minor": 2
}
